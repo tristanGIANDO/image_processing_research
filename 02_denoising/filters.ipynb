{
 "cells": [
  {
   "cell_type": "code",
   "execution_count": null,
   "metadata": {},
   "outputs": [],
   "source": [
    "import numpy as np\n",
    "import scipy.ndimage as ndimage\n",
    "import cv2\n",
    "import matplotlib.pyplot as plt\n",
    "\n",
    "def gaussian_kernel(size, sigma):\n",
    "    \"\"\" Crée un noyau gaussien de taille `size` x `size` avec un écart-type `sigma`. \"\"\"\n",
    "    kernel = np.fromfunction(\n",
    "        lambda x, y: (1 / (2 * np.pi * sigma**2)) * \n",
    "                     np.exp(-((x - (size - 1) / 2)**2 + (y - (size - 1) / 2)**2) / (2 * sigma**2)),\n",
    "        (size, size)\n",
    "    )\n",
    "    return kernel / np.sum(kernel)\n",
    "\n",
    "def apply_gaussian_blur(image_path, kernel_size, sigma):\n",
    "    # Charger l'image\n",
    "    image = cv2.imread(image_path, cv2.IMREAD_GRAYSCALE)\n",
    "    if image is None:\n",
    "        raise ValueError(f\"Image non trouvée : {image_path}\")\n",
    "    \n",
    "    # Créer le noyau gaussien\n",
    "    kernel = gaussian_kernel(kernel_size, sigma)\n",
    "    \n",
    "    # Appliquer le filtre gaussien\n",
    "    blurred_image = ndimage.convolve(image, kernel)\n",
    "    \n",
    "    return blurred_image\n",
    "\n",
    "# Exemple d'utilisation\n",
    "image_path = 'path/to/your/image.jpg'\n",
    "kernel_size = 5  # Taille du noyau (doit être impair)\n",
    "sigma = 1.0      # Écart-type de la gaussienne\n",
    "\n",
    "blurred_image = apply_gaussian_blur(image_path, kernel_size, sigma)\n",
    "\n",
    "# Afficher l'image originale et l'image floutée\n",
    "original_image = cv2.imread(image_path, cv2.IMREAD_GRAYSCALE)\n",
    "plt.figure(figsize=(10, 5))\n",
    "plt.subplot(1, 2, 1)\n",
    "plt.title('Image Originale')\n",
    "plt.imshow(original_image, cmap='gray')\n",
    "plt.axis('off')\n",
    "\n",
    "plt.subplot(1, 2, 2)\n",
    "plt.title('Image Floutée')\n",
    "plt.imshow(blurred_image, cmap='gray')\n",
    "plt.axis('off')\n",
    "\n",
    "plt.show()\n"
   ]
  }
 ],
 "metadata": {
  "language_info": {
   "name": "python"
  }
 },
 "nbformat": 4,
 "nbformat_minor": 2
}
